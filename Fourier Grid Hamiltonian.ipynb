{
 "cells": [
  {
   "cell_type": "markdown",
   "metadata": {},
   "source": [
    "# The Fourier Grid Hamiltonian method\n",
    "\n",
    "## Source\n",
    "\n",
    "This is a quick and dirty implementation of the \"FGH\" method as described in either\n",
    "\n",
    "- Tannor's book \"Introdoction to Quantum Mechanics: a time-dependent perspective\" (my warmest recommendation!)\n",
    "\n",
    "- BALINT-KURTI et al., INTERNATIONAL REVIEWS IN PHYSICAL CHEMISTRY, VOL. 11, No. 2, 317-344\n",
    "\n",
    "\n",
    "The method computes the matrix elements of the kinetic energy operator in position representation analytically. For position-dependent potentials, the potential energy operator is diagonal in position representation. Both terms are added to obtain the symmetric Hamiltonian matrix, which is diagonalised to obtain both eigenvalues and enigenvectors (wavefunctions in position representation). This notebook aims at an example computation and a sample visualization."
   ]
  },
  {
   "cell_type": "code",
   "execution_count": 1,
   "metadata": {
    "collapsed": false
   },
   "outputs": [],
   "source": [
    "#%matplotlib inline\n",
    "\n",
    "from itertools import cycle\n",
    "\n",
    "import numpy as np\n",
    "import matplotlib.pyplot as plt\n",
    "from scipy.linalg import eigh\n",
    "from scipy.integrate import simps\n",
    "\n",
    "%load_ext Cython"
   ]
  },
  {
   "cell_type": "markdown",
   "metadata": {},
   "source": [
    "Define cythonized function that computes the Hamiltonian matrix:"
   ]
  },
  {
   "cell_type": "code",
   "execution_count": 2,
   "metadata": {
    "collapsed": false
   },
   "outputs": [],
   "source": [
    "%%cython\n",
    "\n",
    "# cython: boundscheck=False\n",
    "# cython: cdivision=True\n",
    "# cython: wraparound=False\n",
    "\n",
    "import numpy as np\n",
    "cimport numpy as np\n",
    "\n",
    "cpdef H_cont(double L, double[:] V):\n",
    "    \"\"\"Compute the Hamiltonian NxN matrix in atomic units (hbar = 1; m = 1)\n",
    "       according to Tannor's book, sec. 11.6.4\n",
    "    \n",
    "    Parameters\n",
    "    ----------\n",
    "    L : number\n",
    "        Length of x-interval.\n",
    "    V : array\n",
    "        Sampled potential.\n",
    "\n",
    "    Returns\n",
    "    -------\n",
    "    Hij : array\n",
    "        Hamiltonian.\n",
    "    \"\"\"\n",
    "    \n",
    "    \n",
    "    cdef int N = len(V)\n",
    "    cdef np.ndarray[dtype=double, ndim=2] Hij = np.zeros([N, N])\n",
    "    cdef double K, pi = np.pi\n",
    "    cdef int i, j\n",
    "        \n",
    "    K = pi/(L/N)  # pi/dx\n",
    "        \n",
    "    for i in range(N):\n",
    "        for j in range(i+1):\n",
    "            if i == j:\n",
    "                Hij[i, j] = 0.5*K**2/3. + V[i]\n",
    "            else:\n",
    "                Hij[i, j] = K**2/pi**2 * (-1.)**(j-i)/(j-i)**2\n",
    "                Hij[j, i] = Hij[i, j]  # use Hermitian symmetry\n",
    "                \n",
    "    return Hij"
   ]
  },
  {
   "cell_type": "markdown",
   "metadata": {},
   "source": [
    "Define potential and sample:"
   ]
  },
  {
   "cell_type": "code",
   "execution_count": 27,
   "metadata": {
    "collapsed": false
   },
   "outputs": [],
   "source": [
    "pot = lambda x: x**4 - 20*x**2  # potential function callable\n",
    "#pot = lambda x: 0.5*x**2  # instructice example: harmonic oscillator potential\n",
    "\n",
    "N = 2**10  # number of samples in discretization\n",
    "L = 10.  # length of x support\n",
    "x_vals = np.linspace(-L/2, +L/2, N, endpoint=False)\n",
    "\n",
    "V_sampled = pot(x_vals)\n",
    "H_sampled = H_cont(L, V_sampled)\n",
    "\n",
    "# diagonalize the Hamiltonian matrix:\n",
    "E, psi = eigh(H_sampled)\n"
   ]
  },
  {
   "cell_type": "code",
   "execution_count": 28,
   "metadata": {
    "collapsed": true
   },
   "outputs": [],
   "source": [
    "plt.imshow(H_sampled, interpolation=\"none\"); plt.colorbar(); plt.show()"
   ]
  },
  {
   "cell_type": "code",
   "execution_count": 33,
   "metadata": {
    "collapsed": false
   },
   "outputs": [
    {
     "name": "stdout",
     "output_type": "stream",
     "text": [
      "E[0] = -95.5531875434\n",
      "E[1] = -95.5531875434\n",
      "E[2] = -86.7633541611\n",
      "E[3] = -86.7633541611\n",
      "E[4] = -78.1354749183\n",
      "E[5] = -78.1354749183\n"
     ]
    }
   ],
   "source": [
    "# quick and dirty visualization:\n",
    "\n",
    "N_plot_min = 0  # quantum number of first eigenfunction to plot\n",
    "N_plot = 6  # number of eigenfunctions to plot\n",
    "\n",
    "WF_scale_factor = (np.max(V_sampled) - np.min(V_sampled))/N_plot\n",
    "plt.plot(x_vals, V_sampled, ls=\"-\", c=\"k\", lw=2, label=\"$V(x)$\")\n",
    "\n",
    "style_cycler = cycle([\"-\", \"--\"])  # line styles for plotting\n",
    "color_cyler = cycle([\"blue\", \"red\", \"gray\", \"orange\", \"darkturquoise\", \"magenta\"])\n",
    "\n",
    "for i in range(N_plot_min, N_plot_min+N_plot):\n",
    "    # physically normalize WF (norm = 1)\n",
    "    WF_norm = simps(np.abs(psi[:,i])**2, x=x_vals)\n",
    "    psi[:,i] /= np.sqrt(WF_norm)\n",
    "    # higher energy --> higher offset in plotting\n",
    "    WF_plot =  WF_scale_factor*np.abs(psi[:,i])**2 + E[i]  # also try plotting real part of WF!\n",
    "    plt.plot(x_vals, WF_plot, ls=style_cycler.next(), lw=1.5, color=color_cyler.next(),\n",
    "             label=\"$\\psi_{}(x)$\".format(i))  \n",
    "    print(\"E[%s] = %s\"%(i, E[i]))\n",
    "\n",
    "plt.xlabel(\"$x$\")\n",
    "plt.legend(loc=\"best\")\n",
    "plt.show()\n"
   ]
  },
  {
   "cell_type": "code",
   "execution_count": null,
   "metadata": {
    "collapsed": true
   },
   "outputs": [],
   "source": []
  },
  {
   "cell_type": "code",
   "execution_count": null,
   "metadata": {
    "collapsed": true
   },
   "outputs": [],
   "source": []
  }
 ],
 "metadata": {
  "kernelspec": {
   "display_name": "Python 2",
   "language": "python",
   "name": "python2"
  },
  "language_info": {
   "codemirror_mode": {
    "name": "ipython",
    "version": 2
   },
   "file_extension": ".py",
   "mimetype": "text/x-python",
   "name": "python",
   "nbconvert_exporter": "python",
   "pygments_lexer": "ipython2",
   "version": "2.7.12"
  }
 },
 "nbformat": 4,
 "nbformat_minor": 0
}
